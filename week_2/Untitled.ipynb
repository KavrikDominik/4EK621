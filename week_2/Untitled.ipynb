{
 "cells": [
  {
   "cell_type": "markdown",
   "id": "c788822a-e1ee-41ab-8a9c-742beadb92e3",
   "metadata": {
    "tags": []
   },
   "source": [
    "# Regression models: Week 2"
   ]
  },
  {
   "cell_type": "markdown",
   "id": "725cd0a2-bab1-491a-9e1a-df05e04915b5",
   "metadata": {},
   "source": [
    "# Logarithms and percentages:\n",
    "\n",
    "The use of logarithms is closely connected to percentage representation. To see this, we will create a new variable simply called *Category* via `mutate()` function. This variable will contain a combination of variable *black* and *married*. The `case_when()` function allows us to encode the values based on the values of the original variables. Next we will group our data using `group_by()` based on the *category* and create means of wages for each category using `summarize()` function. "
   ]
  },
  {
   "cell_type": "markdown",
   "id": "8e68fa37-ac4e-4392-8c67-3e186196bb5b",
   "metadata": {},
   "source": [
    "The difference between the value is interpreted as *percentage difference*. Note that the difference is in geometric means!"
   ]
  },
  {
   "cell_type": "code",
   "execution_count": 17,
   "id": "1ef31afb-a0c6-4ef9-87b3-aad914ca9d23",
   "metadata": {},
   "outputs": [
    {
     "data": {
      "text/html": [
       "0.185023"
      ],
      "text/latex": [
       "0.185023"
      ],
      "text/markdown": [
       "0.185023"
      ],
      "text/plain": [
       "[1] 0.185023"
      ]
     },
     "metadata": {},
     "output_type": "display_data"
    }
   ],
   "source": [
    "6.835102 - 6.650079"
   ]
  },
  {
   "cell_type": "code",
   "execution_count": 18,
   "id": "8b675ffa-5f8f-4abe-b29c-dd74ce84c122",
   "metadata": {},
   "outputs": [
    {
     "data": {
      "text/html": [
       "<table class=\"dataframe\">\n",
       "<caption>A tibble: 4 × 3</caption>\n",
       "<thead>\n",
       "\t<tr><th scope=col>category</th><th scope=col>geometric_mean</th><th scope=col>mean</th></tr>\n",
       "\t<tr><th scope=col>&lt;fct&gt;</th><th scope=col>&lt;dbl&gt;</th><th scope=col>&lt;dbl&gt;</th></tr>\n",
       "</thead>\n",
       "<tbody>\n",
       "\t<tr><td>black_married    </td><td>702.5410</td><td> 759.7941</td></tr>\n",
       "\t<tr><td>black_single     </td><td>574.1590</td><td> 600.1111</td></tr>\n",
       "\t<tr><td>non_black_married</td><td>929.9235</td><td>1007.2797</td></tr>\n",
       "\t<tr><td>non_black_single </td><td>772.8453</td><td> 841.9756</td></tr>\n",
       "</tbody>\n",
       "</table>\n"
      ],
      "text/latex": [
       "A tibble: 4 × 3\n",
       "\\begin{tabular}{lll}\n",
       " category & geometric\\_mean & mean\\\\\n",
       " <fct> & <dbl> & <dbl>\\\\\n",
       "\\hline\n",
       "\t black\\_married     & 702.5410 &  759.7941\\\\\n",
       "\t black\\_single      & 574.1590 &  600.1111\\\\\n",
       "\t non\\_black\\_married & 929.9235 & 1007.2797\\\\\n",
       "\t non\\_black\\_single  & 772.8453 &  841.9756\\\\\n",
       "\\end{tabular}\n"
      ],
      "text/markdown": [
       "\n",
       "A tibble: 4 × 3\n",
       "\n",
       "| category &lt;fct&gt; | geometric_mean &lt;dbl&gt; | mean &lt;dbl&gt; |\n",
       "|---|---|---|\n",
       "| black_married     | 702.5410 |  759.7941 |\n",
       "| black_single      | 574.1590 |  600.1111 |\n",
       "| non_black_married | 929.9235 | 1007.2797 |\n",
       "| non_black_single  | 772.8453 |  841.9756 |\n",
       "\n"
      ],
      "text/plain": [
       "  category          geometric_mean mean     \n",
       "1 black_married     702.5410        759.7941\n",
       "2 black_single      574.1590        600.1111\n",
       "3 non_black_married 929.9235       1007.2797\n",
       "4 non_black_single  772.8453        841.9756"
      ]
     },
     "metadata": {},
     "output_type": "display_data"
    }
   ],
   "source": [
    "data %>%\n",
    "    mutate(category = case_when(black==1 & married == 1 ~ \"black_married\",\n",
    "                                black==1 & married == 0 ~ \"black_single\",\n",
    "                                black==0 & married == 1 ~ \"non_black_married\",\n",
    "                                black==0 & married == 0 ~ \"non_black_single\"),\n",
    "        category = factor(category)) %>%\n",
    "    mutate(l_wage = log(wage)) %>%\n",
    "    group_by(category) %>%\n",
    "    summarize(geometric_mean = exp(mean(lwage)),\n",
    "             mean = mean(wage))"
   ]
  },
  {
   "cell_type": "code",
   "execution_count": 19,
   "id": "0aac7245-8538-462e-bd9f-4aa38f4de8cc",
   "metadata": {},
   "outputs": [
    {
     "data": {
      "text/html": [
       "20.3246626459396"
      ],
      "text/latex": [
       "20.3246626459396"
      ],
      "text/markdown": [
       "20.3246626459396"
      ],
      "text/plain": [
       "[1] 20.32466"
      ]
     },
     "metadata": {},
     "output_type": "display_data"
    }
   ],
   "source": [
    "(929.9235 - 772.8453) / 772.8453 * 100"
   ]
  },
  {
   "cell_type": "code",
   "execution_count": 20,
   "id": "30a98b80-b5ce-46b8-a140-53e48b66782a",
   "metadata": {},
   "outputs": [
    {
     "data": {
      "text/html": [
       "19.6328848484445"
      ],
      "text/latex": [
       "19.6328848484445"
      ],
      "text/markdown": [
       "19.6328848484445"
      ],
      "text/plain": [
       "[1] 19.63288"
      ]
     },
     "metadata": {},
     "output_type": "display_data"
    }
   ],
   "source": [
    "(1007.2797 - 841.9756) / 841.9756 * 100"
   ]
  },
  {
   "cell_type": "markdown",
   "id": "0f73132f-f7e3-4db0-95b3-4cb49eadeed2",
   "metadata": {},
   "source": [
    "### Simple linear regression "
   ]
  },
  {
   "cell_type": "markdown",
   "id": "b6e1c642-2608-452e-b3ec-dd24c6c2e148",
   "metadata": {},
   "source": [
    "The purpose of modelling is to figure out how are the things in the whole population. We take a *random* sample from the population. Imagine for now, that we can simulate our own population."
   ]
  },
  {
   "cell_type": "code",
   "execution_count": null,
   "id": "a13effed-9f43-4ff5-9a8f-4b348e8da37d",
   "metadata": {},
   "outputs": [],
   "source": []
  }
 ],
 "metadata": {
  "kernelspec": {
   "display_name": "R",
   "language": "R",
   "name": "ir"
  },
  "language_info": {
   "codemirror_mode": "r",
   "file_extension": ".r",
   "mimetype": "text/x-r-source",
   "name": "R",
   "pygments_lexer": "r",
   "version": "4.2.0"
  }
 },
 "nbformat": 4,
 "nbformat_minor": 5
}
